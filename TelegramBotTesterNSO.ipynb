{
 "cells": [
  {
   "cell_type": "code",
   "execution_count": null,
   "id": "786192af",
   "metadata": {},
   "outputs": [],
   "source": [
    "%pip install pyrogram"
   ]
  },
  {
   "cell_type": "code",
   "execution_count": null,
   "id": "e41c18bc",
   "metadata": {},
   "outputs": [],
   "source": [
    "from time import sleep\n",
    "from pyrogram import Client\n",
    "\n",
    "\n",
    "def verify_response(expected_value: str, received_value: str):\n",
    "    if not received_value.startswith(expected_value):\n",
    "        print(\"It's not what I expected.\")\n",
    "        print(f\"\\tExpected: {expected_value}\")\n",
    "        print(f\"\\tReceived: {received_value}\")\n",
    "        delay(2)\n",
    "        \n",
    "        \n",
    "def get_reply(msg):\n",
    "    delay(3)\n",
    "    return app.get_messages(username, msg.message_id + 1)\n",
    "        \n",
    "def run_test(app):\n",
    "    # text test\n",
    "    msg = app.send_message(username, \"hello world\")\n",
    "    msg = get_reply(msg)\n",
    "    verify_response(\"error\", msg['text'])\n",
    "    \n",
    "    \n",
    "    # image test\n",
    "    img = \"tal-haircut-min.jpg\"\n",
    "    msg = app.send_photo(username, img)\n",
    "    msg = get_reply(msg)\n",
    "    verify_response(\"hash\", msg['text'])\n",
    "    \n",
    "    # document test\n",
    "    doc = \"example.txt\"\n",
    "    msg = app.send_document(username, \"\")\n",
    "    msg = get_reply(msg)\n",
    "    verify_response(\"error\", msg['text'])\n",
    "    \n",
    "\n",
    "\n",
    "api_id = 12345\n",
    "api_hash = \"api_hash_here\"\n",
    "username = \"ImageHashBot\"\n",
    "\n",
    "with Client(\"tester\", api_id, api_hash) as app:\n",
    "    run_test(app)\n",
    "        \n"
   ]
  },
  {
   "cell_type": "code",
   "execution_count": null,
   "id": "57040d97",
   "metadata": {},
   "outputs": [],
   "source": []
  }
 ],
 "metadata": {
  "kernelspec": {
   "display_name": "Python 3 (ipykernel)",
   "language": "python",
   "name": "python3"
  },
  "language_info": {
   "codemirror_mode": {
    "name": "ipython",
    "version": 3
   },
   "file_extension": ".py",
   "mimetype": "text/x-python",
   "name": "python",
   "nbconvert_exporter": "python",
   "pygments_lexer": "ipython3",
   "version": "3.11.5"
  }
 },
 "nbformat": 4,
 "nbformat_minor": 5
}
