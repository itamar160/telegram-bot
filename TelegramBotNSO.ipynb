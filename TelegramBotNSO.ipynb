{
 "cells": [
  {
   "cell_type": "code",
   "execution_count": 5,
   "id": "8f874de0",
   "metadata": {},
   "outputs": [
    {
     "name": "stdout",
     "output_type": "stream",
     "text": [
      "Collecting pyTelegramBotAPI\n",
      "  Obtaining dependency information for pyTelegramBotAPI from https://files.pythonhosted.org/packages/99/44/c253cd74d3fde09cb38c557e0319971bb4c57064ce05e1e6eb2c6cc5f411/pytelegrambotapi-4.22.1-py3-none-any.whl.metadata\n",
      "  Downloading pytelegrambotapi-4.22.1-py3-none-any.whl.metadata (48 kB)\n",
      "     ---------------------------------------- 0.0/48.2 kB ? eta -:--:--\n",
      "     -------- ------------------------------- 10.2/48.2 kB ? eta -:--:--\n",
      "     ---------------- --------------------- 20.5/48.2 kB 222.6 kB/s eta 0:00:01\n",
      "     ------------------------ ------------- 30.7/48.2 kB 220.2 kB/s eta 0:00:01\n",
      "     -------------------------------------- 48.2/48.2 kB 270.9 kB/s eta 0:00:00\n",
      "Requirement already satisfied: requests in c:\\users\\arnon\\anaconda3\\lib\\site-packages (from pyTelegramBotAPI) (2.31.0)\n",
      "Requirement already satisfied: charset-normalizer<4,>=2 in c:\\users\\arnon\\anaconda3\\lib\\site-packages (from requests->pyTelegramBotAPI) (2.0.4)\n",
      "Requirement already satisfied: idna<4,>=2.5 in c:\\users\\arnon\\anaconda3\\lib\\site-packages (from requests->pyTelegramBotAPI) (3.4)\n",
      "Requirement already satisfied: urllib3<3,>=1.21.1 in c:\\users\\arnon\\anaconda3\\lib\\site-packages (from requests->pyTelegramBotAPI) (1.26.16)\n",
      "Requirement already satisfied: certifi>=2017.4.17 in c:\\users\\arnon\\anaconda3\\lib\\site-packages (from requests->pyTelegramBotAPI) (2024.8.30)\n",
      "Downloading pytelegrambotapi-4.22.1-py3-none-any.whl (261 kB)\n",
      "   ---------------------------------------- 0.0/261.0 kB ? eta -:--:--\n",
      "   ------ -------------------------------- 41.0/261.0 kB 991.0 kB/s eta 0:00:01\n",
      "   --------------- ------------------------ 102.4/261.0 kB 1.2 MB/s eta 0:00:01\n",
      "   ---------------------------------- ----- 225.3/261.0 kB 2.0 MB/s eta 0:00:01\n",
      "   ---------------------------------------- 261.0/261.0 kB 1.8 MB/s eta 0:00:00\n",
      "Installing collected packages: pyTelegramBotAPI\n",
      "Successfully installed pyTelegramBotAPI-4.22.1\n",
      "Note: you may need to restart the kernel to use updated packages.\n"
     ]
    }
   ],
   "source": [
    "%pip install pyTelegramBotAPI"
   ]
  },
  {
   "cell_type": "code",
   "execution_count": 8,
   "id": "e4fb3a0a",
   "metadata": {},
   "outputs": [],
   "source": [
    "import hashlib\n",
    "FILE_NAME = \"telegramPhoto.jpg\"\n",
    "f = open(FILE_NAME, \"w+\")\n",
    "f.close()\n",
    "\n",
    "def hash_image():\n",
    "    with open(FILE_NAME, \"rb\") as f:\n",
    "        hash = hashlib.sha256(f.read()).hexdigest()\n",
    "    f.close()\n",
    "    return hash"
   ]
  },
  {
   "cell_type": "code",
   "execution_count": null,
   "id": "a595326e",
   "metadata": {},
   "outputs": [],
   "source": [
    "import os\n",
    "import telebot\n",
    "\n",
    "\n",
    "API_KEY = '6845798336:AAH0MFJEUKVIBwrjGlEUXi5n3GwhhOSMf8w'\n",
    "CHAT_ID = 7229892701\n",
    "bot = telebot.TeleBot(API_KEY)\n",
    "\n",
    "@bot.message_handler()\n",
    "def handle_text(message):\n",
    "    bot.send_message(message.chat.id, \"error: send an image not text\")\n",
    "\n",
    "    \n",
    "@bot.message_handler(content_types=['photo'])\n",
    "def handle_photo(message):\n",
    "    file_path = bot.get_file(message.photo[0].file_id).file_path\n",
    "    \n",
    "    ext = os.path.splitext(file_path)[-1].lower()\n",
    "    \n",
    "    if(ext == \".jpg\" or ext == \".jpeg\"):\n",
    "        hash_from_file_path(message, file_path)\n",
    "    else:\n",
    "        bot.send_message(message.chat.id, \"error: file is not an image\")\n",
    "\n",
    "\n",
    "@bot.message_handler(func = lambda message: True, content_types=['audio', 'voice', 'video', 'text', 'location', 'contact', 'sticker'])\n",
    "def default_command(message):\n",
    "    bot.send_message(message.chat.id, \"error: file is not an image\")\n",
    "\n",
    "\n",
    "@bot.message_handler(content_types=['document'])\n",
    "def handle_document(message):\n",
    "    print(\"1\")\n",
    "    file_path = bot.get_file(message.document[0].file_id).file_path\n",
    "    \n",
    "    ext = os.path.splitext(file_path)[-1].lower()\n",
    "    \n",
    "    if(ext == \".jpg\" or ext == \".jpeg\"):\n",
    "        hash_from_file_path(message, file_path)\n",
    "    else:\n",
    "        bot.reply_to(message, \"error: file is not an image\")\n",
    "  \n",
    "    \n",
    "\n",
    "    \n",
    "def hash_from_file_path(message, file_path):\n",
    "    file = bot.download_file(file_path)\n",
    "    \n",
    "    with open(FILE_NAME, \"wb\") as code:\n",
    "        code.write(file)\n",
    "    code.close()\n",
    "\n",
    "    val = hash_image()\n",
    "\n",
    "    bot.reply_to(message, \"hash value: {}\".format(val))\n",
    "\n",
    "\n",
    "bot.polling()"
   ]
  },
  {
   "cell_type": "code",
   "execution_count": null,
   "id": "0d0aa8d4",
   "metadata": {},
   "outputs": [],
   "source": []
  }
 ],
 "metadata": {
  "kernelspec": {
   "display_name": "Python 3 (ipykernel)",
   "language": "python",
   "name": "python3"
  },
  "language_info": {
   "codemirror_mode": {
    "name": "ipython",
    "version": 3
   },
   "file_extension": ".py",
   "mimetype": "text/x-python",
   "name": "python",
   "nbconvert_exporter": "python",
   "pygments_lexer": "ipython3",
   "version": "3.11.5"
  }
 },
 "nbformat": 4,
 "nbformat_minor": 5
}
