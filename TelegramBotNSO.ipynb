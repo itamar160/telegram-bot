{
 "cells": [
  {
   "cell_type": "code",
   "execution_count": null,
   "id": "8f874de0",
   "metadata": {},
   "outputs": [],
   "source": [
    "%pip install pyTelegramBotAPI"
   ]
  },
  {
   "cell_type": "code",
   "execution_count": null,
   "id": "e4fb3a0a",
   "metadata": {},
   "outputs": [],
   "source": [
    "import hashlib\n",
    "FILE_NAME = \"telegramPhoto.jpg\"\n",
    "f = open(FILE_NAME, \"w+\")\n",
    "f.close()\n",
    "\n",
    "def hash_image():\n",
    "    with open(FILE_NAME, \"rb\") as f:\n",
    "        hash = hashlib.sha256(f.read()).hexdigest()\n",
    "    f.close()\n",
    "    return hash"
   ]
  },
  {
   "cell_type": "code",
   "execution_count": null,
   "id": "a595326e",
   "metadata": {},
   "outputs": [],
   "source": [
    "import os\n",
    "import telebot\n",
    "\n",
    "\n",
    "API_KEY = '6845798336:AAH0MFJEUKVIBwrjGlEUXi5n3GwhhOSMf8w'\n",
    "CHAT_ID = 7229892701\n",
    "bot = telebot.TeleBot(API_KEY)\n",
    "\n",
    "@bot.message_handler()\n",
    "def handle_text(message):\n",
    "    bot.send_message(message.chat.id, \"error: send an image not text\")\n",
    "\n",
    "    \n",
    "@bot.message_handler(content_types=['photo'])\n",
    "def handle_photo(message):\n",
    "    file_path = bot.get_file(message.photo[0].file_id).file_path\n",
    "    \n",
    "    ext = os.path.splitext(file_path)[-1].lower()\n",
    "    \n",
    "    if(ext == \".jpg\" or ext == \".jpeg\"):\n",
    "        hash_from_file_path(message, file_path)\n",
    "    else:\n",
    "        bot.send_message(message.chat.id, \"error: file is not an image\")\n",
    "\n",
    "\n",
    "@bot.message_handler(func = lambda message: True, content_types=['audio', 'voice', 'video', 'text', 'location', 'contact', 'sticker'])\n",
    "def default_command(message):\n",
    "    bot.send_message(message.chat.id, \"error: file is not an image\")\n",
    "\n",
    "\n",
    "@bot.message_handler(content_types=['document'])\n",
    "def handle_document(message):\n",
    "    print(\"1\")\n",
    "    file_path = bot.get_file(message.document[0].file_id).file_path\n",
    "    \n",
    "    ext = os.path.splitext(file_path)[-1].lower()\n",
    "    \n",
    "    if(ext == \".jpg\" or ext == \".jpeg\"):\n",
    "        hash_from_file_path(message, file_path)\n",
    "    else:\n",
    "        bot.reply_to(message, \"error: file is not an image\")\n",
    "  \n",
    "    \n",
    "\n",
    "    \n",
    "def hash_from_file_path(message, file_path):\n",
    "    file = bot.download_file(file_path)\n",
    "    \n",
    "    with open(FILE_NAME, \"wb\") as code:\n",
    "        code.write(file)\n",
    "    code.close()\n",
    "\n",
    "    val = hash_image()\n",
    "\n",
    "    bot.reply_to(message, \"hash value: {}\".format(val))\n",
    "\n",
    "\n",
    "bot.polling()"
   ]
  },
  {
   "cell_type": "code",
   "execution_count": null,
   "id": "0d0aa8d4",
   "metadata": {},
   "outputs": [],
   "source": []
  }
 ],
 "metadata": {
  "kernelspec": {
   "display_name": "Python 3 (ipykernel)",
   "language": "python",
   "name": "python3"
  },
  "language_info": {
   "codemirror_mode": {
    "name": "ipython",
    "version": 3
   },
   "file_extension": ".py",
   "mimetype": "text/x-python",
   "name": "python",
   "nbconvert_exporter": "python",
   "pygments_lexer": "ipython3",
   "version": "3.11.5"
  }
 },
 "nbformat": 4,
 "nbformat_minor": 5
}
