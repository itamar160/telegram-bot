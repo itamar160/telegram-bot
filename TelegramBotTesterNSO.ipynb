{
 "cells": [
  {
   "cell_type": "code",
   "execution_count": 1,
   "id": "786192af",
   "metadata": {},
   "outputs": [
    {
     "name": "stdout",
     "output_type": "stream",
     "text": [
      "Collecting pyrogramNote: you may need to restart the kernel to use updated packages.\n",
      "\n",
      "  Obtaining dependency information for pyrogram from https://files.pythonhosted.org/packages/37/88/502ec24914d208e06baa6f27ff812f46815bb4f302018ad848ebf518abdf/Pyrogram-2.0.106-py3-none-any.whl.metadata\n",
      "  Downloading Pyrogram-2.0.106-py3-none-any.whl.metadata (4.4 kB)\n",
      "Collecting pyaes==1.6.1 (from pyrogram)\n",
      "  Downloading pyaes-1.6.1.tar.gz (28 kB)\n",
      "  Preparing metadata (setup.py): started\n",
      "  Preparing metadata (setup.py): finished with status 'done'\n",
      "Requirement already satisfied: pysocks==1.7.1 in c:\\users\\arnon\\anaconda3\\lib\\site-packages (from pyrogram) (1.7.1)\n",
      "Downloading Pyrogram-2.0.106-py3-none-any.whl (3.6 MB)\n",
      "   ---------------------------------------- 0.0/3.6 MB ? eta -:--:--\n",
      "   ---------------------------------------- 0.0/3.6 MB ? eta -:--:--\n",
      "   ---------------------------------------- 0.0/3.6 MB 653.6 kB/s eta 0:00:06\n",
      "   - -------------------------------------- 0.1/3.6 MB 837.8 kB/s eta 0:00:05\n",
      "   - -------------------------------------- 0.2/3.6 MB 1.0 MB/s eta 0:00:04\n",
      "   --- ------------------------------------ 0.3/3.6 MB 1.7 MB/s eta 0:00:02\n",
      "   ------ --------------------------------- 0.6/3.6 MB 2.3 MB/s eta 0:00:02\n",
      "   ---------- ----------------------------- 0.9/3.6 MB 3.2 MB/s eta 0:00:01\n",
      "   ------------- -------------------------- 1.2/3.6 MB 3.6 MB/s eta 0:00:01\n",
      "   ----------------- ---------------------- 1.6/3.6 MB 4.2 MB/s eta 0:00:01\n",
      "   --------------------- ------------------ 1.9/3.6 MB 4.5 MB/s eta 0:00:01\n",
      "   -------------------------- ------------- 2.3/3.6 MB 4.8 MB/s eta 0:00:01\n",
      "   --------------------------- ------------ 2.5/3.6 MB 4.8 MB/s eta 0:00:01\n",
      "   -------------------------------- ------- 2.9/3.6 MB 5.0 MB/s eta 0:00:01\n",
      "   ----------------------------------- ---- 3.1/3.6 MB 5.1 MB/s eta 0:00:01\n",
      "   ---------------------------------------  3.5/3.6 MB 5.2 MB/s eta 0:00:01\n",
      "   ---------------------------------------  3.6/3.6 MB 5.3 MB/s eta 0:00:01\n",
      "   ---------------------------------------  3.6/3.6 MB 5.3 MB/s eta 0:00:01\n",
      "   ---------------------------------------- 3.6/3.6 MB 4.6 MB/s eta 0:00:00\n",
      "Building wheels for collected packages: pyaes\n",
      "  Building wheel for pyaes (setup.py): started\n",
      "  Building wheel for pyaes (setup.py): finished with status 'done'\n",
      "  Created wheel for pyaes: filename=pyaes-1.6.1-py3-none-any.whl size=26360 sha256=1ae27f174b7d9de45124548e6be3e87edf41710cfc1ff4bd34015d38aa3b29f9\n",
      "  Stored in directory: c:\\users\\arnon\\appdata\\local\\pip\\cache\\wheels\\4e\\52\\33\\010d0843550bffb6a591b11629070ae140c0ad4f53e68a3bd3\n",
      "Successfully built pyaes\n",
      "Installing collected packages: pyaes, pyrogram\n",
      "Successfully installed pyaes-1.6.1 pyrogram-2.0.106\n"
     ]
    }
   ],
   "source": [
    "%pip install pyrogram"
   ]
  },
  {
   "cell_type": "markdown",
   "id": "8552d022",
   "metadata": {},
   "source": [
    "create a telegram app with: https://my.telegram.org/apps\n",
    "put the api_id and api_hash into their corresponding variables.\n",
    "run the main bot and then run the tester\n",
    "\n",
    "** couldn't get the bot to recognize any files, the api suggestion (content_types=['document']) didn't work "
   ]
  },
  {
   "cell_type": "code",
   "execution_count": 23,
   "id": "e41c18bc",
   "metadata": {},
   "outputs": [
    {
     "ename": "AttributeError",
     "evalue": "'coroutine' object has no attribute 'send_message'",
     "output_type": "error",
     "traceback": [
      "\u001b[1;31m---------------------------------------------------------------------------\u001b[0m",
      "\u001b[1;31mAttributeError\u001b[0m                            Traceback (most recent call last)",
      "Cell \u001b[1;32mIn[23], line 44\u001b[0m\n\u001b[0;32m     41\u001b[0m username \u001b[38;5;241m=\u001b[39m \u001b[38;5;124m\"\u001b[39m\u001b[38;5;124mImageHashBot\u001b[39m\u001b[38;5;124m\"\u001b[39m\n\u001b[0;32m     43\u001b[0m \u001b[38;5;28;01mwith\u001b[39;00m Client(\u001b[38;5;124m\"\u001b[39m\u001b[38;5;124mtester\u001b[39m\u001b[38;5;124m\"\u001b[39m, api_id, api_hash) \u001b[38;5;28;01mas\u001b[39;00m app:\n\u001b[1;32m---> 44\u001b[0m     run_test(app)\n",
      "Cell \u001b[1;32mIn[23], line 20\u001b[0m, in \u001b[0;36mrun_test\u001b[1;34m(app)\u001b[0m\n\u001b[0;32m     18\u001b[0m \u001b[38;5;28;01mdef\u001b[39;00m \u001b[38;5;21mrun_test\u001b[39m(app):\n\u001b[0;32m     19\u001b[0m     \u001b[38;5;66;03m# text test\u001b[39;00m\n\u001b[1;32m---> 20\u001b[0m     msg \u001b[38;5;241m=\u001b[39m app\u001b[38;5;241m.\u001b[39msend_message(username, \u001b[38;5;124m\"\u001b[39m\u001b[38;5;124mhello world\u001b[39m\u001b[38;5;124m\"\u001b[39m)\n\u001b[0;32m     21\u001b[0m     msg \u001b[38;5;241m=\u001b[39m get_reply(msg)\n\u001b[0;32m     22\u001b[0m     verify_response(\u001b[38;5;124m\"\u001b[39m\u001b[38;5;124merror\u001b[39m\u001b[38;5;124m\"\u001b[39m, msg[\u001b[38;5;124m'\u001b[39m\u001b[38;5;124mtext\u001b[39m\u001b[38;5;124m'\u001b[39m])\n",
      "\u001b[1;31mAttributeError\u001b[0m: 'coroutine' object has no attribute 'send_message'"
     ]
    }
   ],
   "source": [
    "from time import sleep\n",
    "import asyncio\n",
    "from pyrogram import Client\n",
    "\n",
    "\n",
    "async def verify_response(expected_value: str, received_value: str):\n",
    "    if not received_value.startswith(expected_value):\n",
    "        print(\"It's not what I expected.\")\n",
    "        print(f\"\\tExpected: {expected_value}\")\n",
    "        print(f\"\\tReceived: {received_value}\")\n",
    "        delay(2)\n",
    "        \n",
    "        \n",
    "def get_reply(msg):\n",
    "    delay(3)\n",
    "    return app.get_messages(username, msg.message_id + 1)\n",
    "        \n",
    "def run_test(app):\n",
    "    # text test\n",
    "    msg = app.send_message(username, \"hello world\")\n",
    "    msg = get_reply(msg)\n",
    "    verify_response(\"error\", msg['text'])\n",
    "    \n",
    "    \n",
    "    # image test\n",
    "    img = \"tal-haircut-min.jpg\"\n",
    "    msg = app.send_photo(username, img)\n",
    "    msg = get_reply(msg)\n",
    "    verify_response(\"hash\", msg['text'])\n",
    "    \n",
    "    # document test\n",
    "    doc = \"example.txt\"\n",
    "    msg = app.send_document(username, \"\")\n",
    "    msg = get_reply(msg)\n",
    "    verify_response(\"error\", msg['text'])\n",
    "    \n",
    "\n",
    "\n",
    "api_id = 12345\n",
    "api_hash = \"df8be97dbdcf7c87877d25367a2f5548\"\n",
    "username = \"ImageHashBot\"\n",
    "\n",
    "with Client(\"tester\", api_id, api_hash) as app:\n",
    "    run_test(app)\n",
    "        \n"
   ]
  },
  {
   "cell_type": "code",
   "execution_count": null,
   "id": "57040d97",
   "metadata": {},
   "outputs": [],
   "source": []
  }
 ],
 "metadata": {
  "kernelspec": {
   "display_name": "Python 3 (ipykernel)",
   "language": "python",
   "name": "python3"
  },
  "language_info": {
   "codemirror_mode": {
    "name": "ipython",
    "version": 3
   },
   "file_extension": ".py",
   "mimetype": "text/x-python",
   "name": "python",
   "nbconvert_exporter": "python",
   "pygments_lexer": "ipython3",
   "version": "3.11.5"
  }
 },
 "nbformat": 4,
 "nbformat_minor": 5
}
